{
  "cells": [
    {
      "cell_type": "markdown",
      "metadata": {
        "id": "view-in-github",
        "colab_type": "text"
      },
      "source": [
        "<a href=\"https://colab.research.google.com/github/bryanjjones/InSiTE/blob/master/Site_Integration_Analysis.ipynb\" target=\"_parent\"><img src=\"https://colab.research.google.com/assets/colab-badge.svg\" alt=\"Open In Colab\"/></a>"
      ]
    },
    {
      "cell_type": "code",
      "execution_count": null,
      "metadata": {
        "id": "mVgZpJUPP-cb",
        "cellView": "form"
      },
      "outputs": [],
      "source": [
        "#%%capture\n",
        "#@title 1. Install\n",
        "\n",
        "# check number of cores\n",
        "import multiprocessing\n",
        "cores = str(multiprocessing.cpu_count())\n",
        "print(\"Number of cores: \" + cores)\n",
        "\n",
        "#@markdown Please execute each cell by pressing the *Play* button on\n",
        "#@markdown the left.\n",
        "\n",
        "# download github \"https://github.com/bryanjjones/InSiTE\" and install dependencies\n",
        "!git clone https://github.com/bryanjjones/InSiTE.git\n",
        "!pip install -r InSiTE/requirements.txt\n",
        "\n",
        "# move to InSiTE directory\n",
        "%cd InSiTE/\n",
        "\n",
        "# install bowtie\n",
        "!wget https://sourceforge.net/projects/bowtie-bio/files/bowtie2/2.5.1/bowtie2-2.5.1-linux-x86_64.zip -P bins/\n",
        "!unzip bins/bowtie2-2.5.1-linux-x86_64.zip -d bins/\n",
        "!mv bins/bowtie2-2.5.1-linux-x86_64 bins/bowtie2\n",
        "\n",
        "# install TwoBitToFa\n",
        "# look here: http://hgdownload.cse.ucsc.edu/admin/exe/linux.x86_64/\n",
        "#!wget http://hgdownload.cse.ucsc.edu/admin/exe/linux.x86_64/twoBitToFa\n",
        "#path_to_twobittofa = \"twoBitToFa\"\n",
        "\n",
        "# install bbmap\n",
        "!wget https://sourceforge.net/projects/bbmap/files/BBMap_39.03.tar.gz\n",
        "!tar -xvzf BBMap_39.03.tar.gz\n",
        "!mv bbmap bins/bbmap\n",
        "#bbmerge_location = \"bbmap/bbmerge-auto.sh\"\n",
        "\n",
        "# install bedtools\n",
        "!wget https://github.com/arq5x/bedtools2/releases/download/v2.31.0/bedtools-2.31.0.tar.gz\n",
        "!tar -xvzf bedtools-2.31.0.tar.gz\n",
        "# add to path\n",
        "%cd bedtools2\n",
        "!make\n",
        "%cd ..\n",
        "import os\n",
        "os.environ['PATH'] += ':/content/InSiTE/bedtools2/bin'\n",
        "\n",
        "# download genome files\n",
        "!mkdir reference_datasets/genomes\n",
        "#!gsutil -m cp -r gs://genomics-public-data/references/GRCh38 reference_datasets/genomes/\n",
        "!wget https://hgdownload.cse.ucsc.edu/goldenPath/hg38/bigZips/hg38.2bit -P reference_datasets/genomes/\n",
        "\n",
        "# download reference index\n",
        "!mkdir reference_datasets/genomes/GRCh38.fna.bowtie_index\n",
        "!wget ftp.ncbi.nlm.nih.gov/genomes/archive/old_genbank/Eukaryotes/vertebrates_mammals/Homo_sapiens/GRCh38/seqs_for_alignment_pipelines/GCA_000001405.15_GRCh38_no_alt_analysis_set.fna.bowtie_index.tar.gz\n",
        "!tar -xvzf GCA_000001405.15_GRCh38_no_alt_analysis_set.fna.bowtie_index.tar.gz -C reference_datasets/genomes/GRCh38.fna.bowtie_index/\n",
        "\n",
        "# download annotations\n",
        "!gdown --folder https://drive.google.com/drive/folders/1WCWZyEOAJxNd9g36fohQii_G7OVUDQ9c\n",
        "!mv annotations reference_datasets/annotations"
      ]
    },
    {
      "cell_type": "code",
      "execution_count": null,
      "metadata": {
        "cellView": "form",
        "id": "dublwDfDVRiw"
      },
      "outputs": [],
      "source": [
        "#@title 2. Link Google Drive\n",
        "\n",
        "#@markdown Running this code will create a popup asking to authorize Colab to access your Google Drive. <br>\n",
        "#@markdown *Note that you'll have to re-authorize Colab access with every new runtime.*\n",
        "\n",
        "from google.colab import drive\n",
        "drive.mount('/content/gdrive', force_remount=True)"
      ]
    },
    {
      "cell_type": "code",
      "execution_count": null,
      "metadata": {
        "cellView": "form",
        "id": "8ndmUn1kcVgx"
      },
      "outputs": [],
      "source": [
        "#@title 2. Upload Vector file\n",
        "vector_file = False #@param {type:\"boolean\"}\n",
        "#@markdown This will eliminate reads that align to plasmid and not integrated transposon\n",
        "if vector_file:\n",
        "  from google.colab import files\n",
        "  uploaded = files.upload()\n",
        "  tmp = list(uploaded.keys())\n",
        "  vector_file = tmp[0]"
      ]
    },
    {
      "cell_type": "code",
      "execution_count": null,
      "metadata": {
        "id": "oOmap33hVJ0j",
        "colab": {
          "base_uri": "https://localhost:8080/"
        },
        "outputId": "c393cff9-4510-49a2-96f6-aa0e8c62cf12",
        "cellView": "form"
      },
      "outputs": [
        {
          "output_type": "stream",
          "name": "stdout",
          "text": [
            "python scripts/InSiTE.py --fastq=/content/gdrive/MyDrive/data/30-933683439/NGS1_R2_001.fastq.gz --pairs=/content/gdrive/MyDrive/data/30-933683439/NGS1_R1_001.fastq.gz --twobitgenomelocation=reference_datasets/genomes/hg38.2bit --bowtielocation=bins/bowtie2/bowtie2 --bowtiethreads=8\n",
            "Merging paired reads files /content/gdrive/MyDrive/data/30-933683439/NGS1_R2_001.fastq.gz and /content/gdrive/MyDrive/data/30-933683439/NGS1_R1_001.fastq.gz using bbmerge.\n",
            "./bins/bbmap/bbmerge-auto.sh in1=/content/gdrive/MyDrive/data/30-933683439/NGS1_R2_001.fastq.gz in2=/content/gdrive/MyDrive/data/30-933683439/NGS1_R1_001.fastq.gz out=/content/gdrive/MyDrive/data/30-933683439/NGS1_R2_001_merge.fastq outu1=/content/gdrive/MyDrive/data/30-933683439/NGS1_R2_001_unmerge.fastq outu2=/content/gdrive/MyDrive/data/30-933683439/NGS1_R1_001_unmerge.fastq\n"
          ]
        }
      ],
      "source": [
        "#@title 3. Run analysis\n",
        "import os\n",
        "import re\n",
        "#@markdown Select a folder to run all paired reads with the same conditions. Leave blank to run specific files.\n",
        "folder = \"\" #@param{type:\"string\"}\n",
        "fastq_file = \"/content/gdrive/MyDrive/data/30-933683439/NGS1_R1_001.fastq.gz\" #@param {type:\"string\"}\n",
        "paired_fastq_file = \"/content/gdrive/MyDrive/data/30-933683439/NGS1_R2_001.fastq.gz\" #@param {type:\"string\"}\n",
        "\n",
        "random_sites = False #@param {type:\"boolean\"}\n",
        "random_nt = False #@param {type:\"boolean\"}\n",
        "no_seqs = False #@param {type:\"boolean\"}\n",
        "#compress_reads = True #@param {type:\"boolean\"}\n",
        "no_annotate = False #@param {type:\"boolean\"}\n",
        "barcode = \"NNNNNN\"  #@param {type:\"string\"}\n",
        "lwindow = 0 #@param {type:\"integer\"}\n",
        "rwindow = 0 #@param {type:\"integer\"}\n",
        "min = 25 #@param {type:\"integer\"}\n",
        "primer5 = \"\" #@param {type:\"string\"}\n",
        "primer3 = \"\"  #@param {type:\"string\"}\n",
        "trim5 = 0 #@param {type:\"integer\"}\n",
        "trim3 = 0 #@param {type:\"integer\"}\n",
        "feature = \"None\" #@param [\"None\", \"gene\", \"exon\", \"intron\"]\n",
        "dist = False #@param {type:\"boolean\"}\n",
        "close = 100 #@param {type:\"integer\"}\n",
        "\n",
        "paired_files = {}\n",
        "if folder:\n",
        "  results_dir = folder\n",
        "  for file in os.listdir(folder):\n",
        "    if '.fastq' in file and 'merged' not in file and 'trimmed' not in file:\n",
        "      try:\n",
        "        paired_files[re.sub(r'_R\\d_', '', file)].append(os.path.join(folder, file))\n",
        "      except KeyError:\n",
        "        paired_files[re.sub(r'_R\\d_', '', file)] = [os.path.join(folder, file)]\n",
        "else:\n",
        "  results_dir = os.path.dirname(fastq_file)\n",
        "  paired_files['OnlyOne'] = [fastq_file, paired_fastq_file]\n",
        "\n",
        "#run analysis\n",
        "for key, value in paired_files.items():\n",
        "  assert len(value) < 3, f\"Too many files linked to '{value[0]}'\"\n",
        "  fastq_file = value[0]\n",
        "  paired_fastq_file = value[1]\n",
        "  command = \"python scripts/InSiTE.py --fastq=\" + fastq_file\n",
        "  if paired_fastq_file:\n",
        "    command += \" --pairs=\" + paired_fastq_file\n",
        "  #command += \" --chromosome_ids=reference_datasets/chromosomes.csv\"\n",
        "  #command += \" --bowtieindex=reference_datasets/genomes/GRCh38.fna.bowtie_index/GCA_000001405.15_GRCh38_no_alt_analysis_set.fna.bowtie_index\"\n",
        "  #command += \" --twobitlocation=scripts/TwoBitToFa\"\n",
        "  command += \" --twobitgenomelocation=reference_datasets/genomes/hg38.2bit\"\n",
        "  command += \" --bowtielocation=bins/bowtie2/bowtie2\"\n",
        "  command += \" --bowtiethreads=\" + cores\n",
        "  #command += \" --bbmergelocation=$bbmerge_location\"\n",
        "  #command += \" --bbduklocation=bbmap/bbduk.sh\"\n",
        "  if vector_file:\n",
        "    command += \" --vectors=\" + vector_file\n",
        "  if random_sites:\n",
        "    command += \" --random_is\"\n",
        "  if random_nt:\n",
        "    command += \" --random_nt\"\n",
        "  if no_seqs:\n",
        "    command += \" --no_seqs\"\n",
        "  #if compress_reads:\n",
        "  #  command += \" -z\"\n",
        "  if no_annotate:\n",
        "    command += \" --no_annotate\"\n",
        "  if barcode != \"NNNNNN\":\n",
        "    command += \" --barcode=\" + barcode\n",
        "  if lwindow != 0:\n",
        "    command += \" --lwindow=\" + str(lwindow)\n",
        "  if rwindow != 0:\n",
        "    command += \" --rwindow=\" + str(rwindow)\n",
        "  if min != 25:\n",
        "    command += \" --min=\" + str(min)\n",
        "  if primer5:\n",
        "    command += \" --primer5=\" + primer5\n",
        "  if primer3:\n",
        "    command += \" --primer3=\" + primer3\n",
        "  if trim5 != 0:\n",
        "    command += \" --trim5=\" + str(trim5)\n",
        "  if trim3 != 0:\n",
        "    command += \" --trim3=\" + str(trim3)\n",
        "  if feature != \"None\":\n",
        "    command += \" --feature=\" + feature\n",
        "  if dist:\n",
        "    command += \" --dist\"\n",
        "  if close != 100:\n",
        "    command += \" --close=\" + str(close)\n",
        "\n",
        "  # run analysis\n",
        "  print(command)\n",
        "  !$command\n",
        "  !rm $results_dir/*trimmed.fastq\n",
        "  !rm $results_dir/*merged_reads.fastq\n",
        "  !rm $results_dir/*.bam\n"
      ]
    },
    {
      "cell_type": "code",
      "execution_count": null,
      "metadata": {
        "id": "9jydOzAIsoZY",
        "cellView": "form"
      },
      "outputs": [],
      "source": [
        "#@title Download Results\n",
        "#get dir of fastq_file\n",
        "results_dir = os.path.dirname(fastq_file)\n",
        "print(results_dir)\n",
        "# download results\n",
        "%cd $results_dir\n",
        "!rm results.zip\n",
        "from google.colab import files\n",
        "!zip results.zip *.csv *.svg\n",
        "files.download(\"results.zip\")\n",
        "print('Also look in your google drive folder')"
      ]
    }
  ],
  "metadata": {
    "colab": {
      "provenance": [],
      "machine_shape": "hm",
      "authorship_tag": "ABX9TyPvziLVujYJ6fsZEEbGiiNX",
      "include_colab_link": true
    },
    "kernelspec": {
      "display_name": "Python 3",
      "name": "python3"
    },
    "language_info": {
      "name": "python"
    }
  },
  "nbformat": 4,
  "nbformat_minor": 0
}